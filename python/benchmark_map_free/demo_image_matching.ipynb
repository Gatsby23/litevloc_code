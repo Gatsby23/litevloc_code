{
 "cells": [
  {
   "cell_type": "markdown",
   "metadata": {},
   "source": [
    "### Requirement\n",
    "1. Install ```image-matching-models```: https://github.com/gmberton/image-matching-models"
   ]
  },
  {
   "cell_type": "code",
   "execution_count": null,
   "metadata": {},
   "outputs": [],
   "source": [
    "import sys\n",
    "from matching import get_matcher, available_models\n",
    "from matching.viz import *\n",
    "from pathlib import Path\n",
    "import torch\n",
    "import warnings\n",
    "\n",
    "warnings.filterwarnings(\"ignore\")\n",
    "\n",
    "%load_ext autoreload\n",
    "%autoreload 2\n",
    "%matplotlib inline\n"
   ]
  },
  {
   "cell_type": "code",
   "execution_count": null,
   "metadata": {},
   "outputs": [],
   "source": [
    "device = 'cuda' if torch.cuda.is_available() else 'cpu'\n",
    "print(f'Using device: {device}')\n",
    "ransac_kwargs = {'ransac_reproj_thresh':5, \n",
    "                 'ransac_conf':0.995, \n",
    "                 'ransac_iters':1000} # optional ransac params\n",
    "matcher = get_matcher('master', device=device, **ransac_kwargs) #try an ensemble!"
   ]
  },
  {
   "cell_type": "code",
   "execution_count": null,
   "metadata": {},
   "outputs": [],
   "source": [
    "pair_path = '/Rocket_ssd/dataset/data_litevloc/general_environment/map_free_eval/test/example_pairs_paths_all_scene.txt'\n",
    "resize = 512\n",
    "lines = []\n",
    "with open(pair_path, 'r') as file:\n",
    "    for line in file:\n",
    "        if line == '\\n':\n",
    "            continue\n",
    "        lines.append(line)\n",
    "print(len(lines))"
   ]
  },
  {
   "cell_type": "markdown",
   "metadata": {},
   "source": [
    "### Match Image Pair"
   ]
  },
  {
   "cell_type": "code",
   "execution_count": null,
   "metadata": {},
   "outputs": [],
   "source": [
    "for i in range(1, len(lines), 1):\n",
    "    pair = lines[i].split()\n",
    "    img0 = matcher.load_image(pair[0], resize=resize)\n",
    "    img1 = matcher.load_image(pair[1], resize=resize)\n",
    "    result = matcher(img0, img1)\n",
    "    num_inliers, H, mkpts0, mkpts1 = result['num_inliers'], result['H'], result['inlier_kpts0'], result['inlier_kpts1']\n",
    "    plot_matches(img0, img1, result, save_path=f'/Rocket_ssd/dataset/data_litevloc/general_environment/map_free_eval/test/result_matching/{i:06d}.png')"
   ]
  },
  {
   "cell_type": "markdown",
   "metadata": {},
   "source": [
    "### Extract Kpts and Descriptors"
   ]
  },
  {
   "cell_type": "code",
   "execution_count": null,
   "metadata": {},
   "outputs": [],
   "source": [
    "pair_path = '/Rocket_ssd/dataset/data_litevloc/general_environment/map_free_eval/test/example_pairs_paths_all_scene.txt'\n",
    "resize = 512\n",
    "with open(pair_path, 'r') as file:\n",
    "    for line in file:\n",
    "        pair = line.split()\n",
    "        img = matcher.load_image(pair[1], resize=resize)\n",
    "        result = matcher.extract(img)\n",
    "        plot_kpts(img, result)"
   ]
  },
  {
   "cell_type": "markdown",
   "metadata": {},
   "source": [
    "### See all matchers on the same image pair"
   ]
  },
  {
   "cell_type": "code",
   "execution_count": null,
   "metadata": {},
   "outputs": [],
   "source": [
    "%%capture\n",
    "\n",
    "image_size = 512\n",
    "img0 = matcher.image_loader(pair[0], resize=image_size)\n",
    "img1 = matcher.image_loader(pair[1], resize=image_size)\n",
    "num_per_row = 3\n",
    "fig, axs = plt.subplots(int(np.ceil(len(available_models)/num_per_row)), 2*num_per_row, figsize=(12, 20))\n",
    "flat_axs = axs.flatten()\n",
    "\n",
    "for idx, model in enumerate(available_models):\n",
    "    idx = idx * 2\n",
    "    ax0, ax1 = flat_axs[idx], flat_axs[idx+1]\n",
    "\n",
    "    try:\n",
    "        matcher = get_matcher(model, device=device)\n",
    "        result = matcher(img0, img1)\n",
    "        num_inliers, H, mkpts0, mkpts1 = result['num_inliers'], result['H'], result['inlier_kpts0'], result['inlier_kpts1']\n",
    "\n",
    "        ax0.imshow(tensor_to_image(img0))\n",
    "        ax1.imshow(tensor_to_image(img1))\n",
    "        _ = viz2d.plot_matches(mkpts0, mkpts1, color='lime', lw=0.1, ps=1, axes=[ax0, ax1])\n",
    "        ax0.text(image_size/2, -10, f'{model}: {len(mkpts1)} matches')\n",
    "\n",
    "    except Exception as e:\n",
    "        blank_img = np.zeros_like(tensor_to_image(img0))\n",
    "        ax0.imshow(blank_img)\n",
    "        ax1.imshow(blank_img)\n",
    "        ax0.text(image_size/2, -10, f'{model}: Error')\n",
    "        print(f'Error with {model}: {e}')\n",
    "    \n",
    "for ax in flat_axs:\n",
    "    ax.axis('off')"
   ]
  },
  {
   "cell_type": "code",
   "execution_count": null,
   "metadata": {},
   "outputs": [],
   "source": [
    "fig"
   ]
  }
 ],
 "metadata": {
  "kernelspec": {
   "display_name": "isag",
   "language": "python",
   "name": "python3"
  },
  "language_info": {
   "codemirror_mode": {
    "name": "ipython",
    "version": 3
   },
   "file_extension": ".py",
   "mimetype": "text/x-python",
   "name": "python",
   "nbconvert_exporter": "python",
   "pygments_lexer": "ipython3",
   "version": "3.10.14"
  }
 },
 "nbformat": 4,
 "nbformat_minor": 2
}
